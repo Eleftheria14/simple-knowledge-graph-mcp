{
 "cells": [
  {
   "cell_type": "markdown",
   "metadata": {},
   "source": [
    "# 🤖 Simple Paper RAG + Knowledge Graph Chat\n",
    "\n",
    "**Your personal AI research assistant** - Upload a paper, chat with it using natural language!\n",
    "\n",
    "**What this does:**\n",
    "- 📚 **RAG (Retrieval-Augmented Generation)**: Ask questions, get intelligent answers from the paper\n",
    "- 🕸️ **Knowledge Graph**: Discover entities (authors, methods, concepts) and their relationships  \n",
    "- 💬 **Chat Interface**: Natural language conversation with your paper\n",
    "- 🧠 **Local AI**: Uses Ollama - completely private, no data sent anywhere\n",
    "\n",
    "**Perfect for:** Understanding complex papers, research exploration, literature review"
   ]
  },
  {
   "cell_type": "markdown",
   "metadata": {},
   "source": [
    "## 🛠️ Setup"
   ]
  },
  {
   "cell_type": "code",
   "execution_count": null,
   "metadata": {},
   "outputs": [],
   "source": [
    "import sys\n",
    "import os\n",
    "\n",
    "# Add parent directory to path for imports\n",
    "sys.path.append('..')\n",
    "\n",
    "# Import our simple RAG + Knowledge Graph system\n",
    "from src import UnifiedPaperChat, analyze_paper_with_chat\n",
    "import json\n",
    "\n",
    "print(\"✅ Setup complete! Ready to analyze papers with AI.\")\n",
    "print(\"🔧 Make sure Ollama is running with llama3.1:8b and nomic-embed-text models\")"
   ]
  },
  {
   "cell_type": "markdown",
   "metadata": {},
   "source": [
    "## 📄 Load Your Paper\n",
    "\n",
    "**Quick start:** Use the example paper or change the path to your own PDF."
   ]
  },
  {
   "cell_type": "code",
   "execution_count": null,
   "metadata": {},
   "outputs": [],
   "source": [
    "# 📁 Set path to your paper (change this to your own PDF)\n",
    "pdf_path = \"../examples/d4sc03921a.pdf\"  # Example paper\n",
    "# pdf_path = \"/path/to/your/paper.pdf\"    # 👈 Change this to your paper\n",
    "\n",
    "print(f\"📚 Loading paper: {pdf_path}\")\n",
    "print(\"⏳ This takes 30-60 seconds (creating embeddings + extracting entities)...\")\n",
    "print()\n",
    "\n",
    "# Load paper and build RAG + Knowledge Graph\n",
    "chat_system = analyze_paper_with_chat(pdf_path)\n",
    "\n",
    "print(\"\\n🎉 Paper loaded successfully! Ready for intelligent chat.\")"
   ]
  },
  {
   "cell_type": "markdown",
   "metadata": {},
   "source": [
    "## 📊 Paper Overview\n",
    "\n",
    "Get a quick overview of what was extracted from your paper."
   ]
  },
  {
   "cell_type": "code",
   "execution_count": null,
   "metadata": {},
   "outputs": [],
   "source": [
    "# Get paper overview\n",
    "overview = chat_system.get_paper_overview()\n",
    "\n",
    "print(\"📋 PAPER OVERVIEW\")\n",
    "print(\"=\" * 50)\n",
    "print(f\"📰 Title: {overview['paper_info']['title']}\")\n",
    "print(f\"📄 Content: {overview['paper_info']['chunks']} chunks created\")\n",
    "print(f\"🕸️ Knowledge Graph: {overview['knowledge_graph']['total_nodes']} entities, {overview['knowledge_graph']['total_edges']} relationships\")\n",
    "print(f\"💬 Status: {overview['status']}\")\n",
    "\n",
    "print(\"\\n🔍 EXTRACTED ENTITIES:\")\n",
    "entities = chat_system.get_entities()\n",
    "for category, items in entities.items():\n",
    "    if items and isinstance(items, list) and len(items) > 0:\n",
    "        print(f\"  {category.title()}: {', '.join(items[:3])}{'...' if len(items) > 3 else ''}\")\n",
    "    elif items and isinstance(items, str):\n",
    "        print(f\"  {category.title()}: {items}\")"
   ]
  },
  {
   "cell_type": "markdown",
   "metadata": {},
   "source": [
    "## 💬 Chat with Your Paper\n",
    "\n",
    "**Now the fun part!** Ask questions about your paper using natural language.\n",
    "\n",
    "**Examples:**\n",
    "- \"What are the main findings?\"\n",
    "- \"Who are the authors?\"\n",
    "- \"What methods were used?\"\n",
    "- \"Tell me about the results\"\n",
    "- \"What concepts are most important?\""
   ]
  },
  {
   "cell_type": "code",
   "execution_count": null,
   "metadata": {},
   "outputs": [],
   "source": [
    "# 🤔 Get suggested questions\n",
    "suggestions = chat_system.suggest_questions()\n",
    "\n",
    "print(\"💡 SUGGESTED QUESTIONS:\")\n",
    "for i, suggestion in enumerate(suggestions[:6], 1):\n",
    "    print(f\"  {i}. {suggestion}\")\n",
    "\n",
    "print(\"\\n👆 Try any of these questions in the chat cells below!\")"
   ]
  },
  {
   "cell_type": "code",
   "execution_count": null,
   "metadata": {},
   "outputs": [],
   "source": [
    "# 💬 CHAT CELL 1 - Ask your first question\n",
    "question = \"What are the main findings of this paper?\"  # 👈 Change this question\n",
    "\n",
    "print(f\"❓ You: {question}\")\n",
    "print(\"🤖 AI Assistant:\")\n",
    "\n",
    "response = chat_system.chat(question)\n",
    "print(response['answer'])\n",
    "\n",
    "print(f\"\\n📍 Source: {response.get('mode', 'unknown')} ({response.get('source', 'mixed')})\")"
   ]
  },
  {
   "cell_type": "code",
   "execution_count": null,
   "metadata": {},
   "outputs": [],
   "source": [
    "# 💬 CHAT CELL 2 - Ask about methods\n",
    "question = \"What methods were used in this research?\"  # 👈 Change this question\n",
    "\n",
    "print(f\"❓ You: {question}\")\n",
    "print(\"🤖 AI Assistant:\")\n",
    "\n",
    "response = chat_system.chat(question)\n",
    "print(response['answer'])\n",
    "\n",
    "print(f\"\\n📍 Source: {response.get('mode', 'unknown')} ({response.get('source', 'mixed')})\")"
   ]
  },
  {
   "cell_type": "code",
   "execution_count": null,
   "metadata": {},
   "outputs": [],
   "source": [
    "# 💬 CHAT CELL 3 - Ask about entities/relationships\n",
    "question = \"Who are the authors and what are their contributions?\"  # 👈 Change this question\n",
    "\n",
    "print(f\"❓ You: {question}\")\n",
    "print(\"🤖 AI Assistant:\")\n",
    "\n",
    "response = chat_system.chat(question)\n",
    "print(response['answer'])\n",
    "\n",
    "print(f\"\\n📍 Source: {response.get('mode', 'unknown')} ({response.get('source', 'mixed')})\")"
   ]
  },
  {
   "cell_type": "code",
   "execution_count": null,
   "metadata": {},
   "outputs": [],
   "source": [
    "# 💬 CHAT CELL 4 - Custom question\n",
    "question = \"YOUR QUESTION HERE\"  # 👈 Write your own question\n",
    "\n",
    "print(f\"❓ You: {question}\")\n",
    "print(\"🤖 AI Assistant:\")\n",
    "\n",
    "response = chat_system.chat(question)\n",
    "print(response.get('answer', response.get('error', 'No response')))\n",
    "\n",
    "if 'answer' in response:\n",
    "    print(f\"\\n📍 Source: {response.get('mode', 'unknown')} ({response.get('source', 'mixed')})\")"
   ]
  },
  {
   "cell_type": "markdown",
   "metadata": {},
   "source": [
    "## 🕸️ Explore Knowledge Graph\n",
    "\n",
    "**Discover relationships** between entities in your paper."
   ]
  },
  {
   "cell_type": "code",
   "execution_count": null,
   "metadata": {},
   "outputs": [],
   "source": [
    "# 🔍 Explore a specific entity\n",
    "entities = chat_system.get_entities()\n",
    "\n",
    "# Pick an interesting entity to explore\n",
    "entity_to_explore = None\n",
    "\n",
    "# Try to find an interesting entity\n",
    "for category, items in entities.items():\n",
    "    if items and isinstance(items, list) and len(items) > 0:\n",
    "        entity_to_explore = items[0]\n",
    "        break\n",
    "\n",
    "if entity_to_explore:\n",
    "    print(f\"🔍 Exploring entity: '{entity_to_explore}'\")\n",
    "    \n",
    "    exploration = chat_system.explore_entity(entity_to_explore)\n",
    "    \n",
    "    if 'error' not in exploration:\n",
    "        print(f\"\\n📊 Entity: {exploration['node']}\")\n",
    "        print(f\"📁 Category: {exploration['category']}\")\n",
    "        print(f\"🔗 Connections: {exploration['total_connections']}\")\n",
    "        \n",
    "        if exploration['connections']:\n",
    "            print(\"\\n🕸️ RELATIONSHIPS:\")\n",
    "            for conn in exploration['connections']:\n",
    "                print(f\"  • {conn['relationship']} → {conn['target']} ({conn['category']})\")\n",
    "        \n",
    "        if 'rag_context' in exploration:\n",
    "            print(f\"\\n💬 Context from paper:\")\n",
    "            print(exploration['rag_context'][:300] + \"...\")\n",
    "    else:\n",
    "        print(f\"❌ Could not explore entity: {exploration['error']}\")\n",
    "else:\n",
    "    print(\"❌ No entities found to explore\")"
   ]
  },
  {
   "cell_type": "markdown",
   "metadata": {},
   "source": [
    "## 📈 Knowledge Graph Summary\n",
    "\n",
    "See the overall structure of relationships in your paper."
   ]
  },
  {
   "cell_type": "code",
   "execution_count": null,
   "metadata": {},
   "outputs": [],
   "source": [
    "# 📊 Get knowledge graph statistics\n",
    "graph_summary = chat_system.kg.get_graph_summary()\n",
    "\n",
    "if 'error' not in graph_summary:\n",
    "    print(\"🕸️ KNOWLEDGE GRAPH SUMMARY\")\n",
    "    print(\"=\" * 40)\n",
    "    print(f\"📊 Total entities: {graph_summary['total_nodes']}\")\n",
    "    print(f\"🔗 Total relationships: {graph_summary['total_edges']}\")\n",
    "    print(f\"🎯 Graph density: {graph_summary['graph_density']:.3f}\")\n",
    "    \n",
    "    print(\"\\n📁 ENTITIES BY CATEGORY:\")\n",
    "    for category, count in graph_summary['nodes_by_category'].items():\n",
    "        print(f\"  {category.title()}: {count}\")\n",
    "    \n",
    "    print(\"\\n⭐ MOST CONNECTED ENTITIES:\")\n",
    "    for item in graph_summary['most_connected'][:5]:\n",
    "        print(f\"  • {item['node']} ({item['connections']:.2f} connection strength)\")\nelse:\n",
    "    print(f\"❌ Graph summary not available: {graph_summary['error']}\")"
   ]
  },
  {
   "cell_type": "markdown",
   "metadata": {},
   "source": [
    "## 📝 Get Citation\n",
    "\n",
    "**Need to cite this paper?** Get a properly formatted citation."
   ]
  },
  {
   "cell_type": "code",
   "execution_count": null,
   "metadata": {},
   "outputs": [],
   "source": [
    "# 📝 Get citation for the paper\n",
    "paper_info = chat_system.rag.paper_data\n",
    "\n",
    "print(\"📝 CITATION\")\n",
    "print(\"=\" * 30)\n",
    "print(f\"**Title:** {paper_info['title']}\")\n",
    "print(f\"**Citation:** {paper_info['citation']}\")\n",
    "\n",
    "print(\"\\n📋 **Copy-paste ready:**\")\n",
    "print(f\"{paper_info['citation']}\")"
   ]
  },
  {
   "cell_type": "markdown",
   "metadata": {},
   "source": [
    "## 🚀 What's Next?\n",
    "\n",
    "**You now have a complete RAG + Knowledge Graph system for paper analysis!**\n",
    "\n",
    "**What you can do:**\n",
    "- 📚 **Load different papers** - Change the `pdf_path` and run the loading cell\n",
    "- 💬 **Ask more questions** - Use the chat cells with your own questions\n",
    "- 🔍 **Explore entities** - Investigate specific concepts, methods, or authors\n",
    "- 🕸️ **Discover relationships** - Find connections between different parts of the paper\n",
    "\n",
    "**Advanced usage:**\n",
    "- **Batch analysis**: Load multiple papers (one at a time) and compare insights\n",
    "- **Research exploration**: Use this for literature review and understanding complex topics\n",
    "- **Methodology understanding**: Deep dive into experimental approaches and techniques\n",
    "\n",
    "**Tips:**\n",
    "- Be specific in your questions for better answers\n",
    "- Try both factual questions (\"What methods...\") and analytical ones (\"How do...\") \n",
    "- Explore entities to understand the paper's structure\n",
    "- The system gets smarter as you interact with it!\n",
    "\n",
    "**🎉 Happy researching with AI!**"
   ]
  }
 ],
 "metadata": {
  "kernelspec": {
   "display_name": "Python 3",
   "language": "python",
   "name": "python3"
  },
  "language_info": {
   "codemirror_mode": {
    "name": "ipython",
    "version": 3
   },
   "file_extension": ".py",
   "mimetype": "text/x-python",
   "name": "python",
   "nbconvert_exporter": "python",
   "pygments_lexer": "ipython3",
   "version": "3.9.6"
  }
 },
 "nbformat": 4,
 "nbformat_minor": 4
}