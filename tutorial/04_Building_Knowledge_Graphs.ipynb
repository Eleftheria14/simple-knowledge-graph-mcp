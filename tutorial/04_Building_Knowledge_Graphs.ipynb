{
 "cells": [
  {
   "cell_type": "markdown",
   "metadata": {},
   "source": [
    "# 🕸️ Tutorial 4: Building Knowledge Graphs\n",
    "\n",
    "**Learn to build knowledge graphs from research papers using AI.**\n",
    "\n",
    "## What You'll Learn:\n",
    "- Extract entities from papers using AI\n",
    "- Build knowledge graphs automatically\n",
    "- Visualize research connections\n",
    "- Query graphs for insights\n",
    "\n",
    "**Time:** 15 minutes | **Level:** Beginner"
   ]
  },
  {
   "cell_type": "markdown",
   "metadata": {},
   "source": [
    "## Step 1: Setup"
   ]
  },
  {
   "cell_type": "code",
   "execution_count": 2,
   "metadata": {},
   "outputs": [
    {
     "name": "stdout",
     "output_type": "stream",
     "text": [
      "✅ Setup complete!\n"
     ]
    }
   ],
   "source": [
    "# Import what we need\n",
    "import sys\n",
    "import os\n",
    "\n",
    "# Add parent directory to path\n",
    "if os.path.basename(os.getcwd()) == 'tutorial':\n",
    "    sys.path.insert(0, '..')\n",
    "else:\n",
    "    sys.path.insert(0, '.')\n",
    "\n",
    "# Enable widgets for visualization\n",
    "try:\n",
    "    import google.colab\n",
    "    from google.colab import output\n",
    "    output.enable_custom_widget_manager()\n",
    "    print(\"📱 Google Colab widget support enabled\")\n",
    "except:\n",
    "    pass\n",
    "\n",
    "# Import the GraphRAG system\n",
    "from src.langchain_graph_rag import LangChainGraphRAG\n",
    "\n",
    "print(\"✅ Setup complete!\")"
   ]
  },
  {
   "cell_type": "markdown",
   "metadata": {},
   "source": [
    "## Step 2: Create GraphRAG System"
   ]
  },
  {
   "cell_type": "code",
   "execution_count": 3,
   "metadata": {},
   "outputs": [
    {
     "name": "stderr",
     "output_type": "stream",
     "text": [
      "/Users/aimiegarces/Agents/tutorial/../src/enhanced_knowledge_graph.py:24: LangChainDeprecationWarning: The class `Ollama` was deprecated in LangChain 0.3.1 and will be removed in 1.0.0. An updated version of the class exists in the :class:`~langchain-ollama package and should be used instead. To use it run `pip install -U :class:`~langchain-ollama` and import as `from :class:`~langchain_ollama import OllamaLLM``.\n",
      "  self.llm = Ollama(model=llm_model, temperature=0.1)\n",
      "INFO:src.enhanced_knowledge_graph:🕸️ Enhanced Knowledge Graph initialized\n",
      "INFO:chromadb.telemetry.product.posthog:Anonymized telemetry enabled. See                     https://docs.trychroma.com/telemetry for more information.\n",
      "INFO:src.langchain_graph_rag:🕸️ LangChain GraphRAG initialized\n"
     ]
    },
    {
     "name": "stdout",
     "output_type": "stream",
     "text": [
      "🕸️ Knowledge graph system ready!\n",
      "📊 Current papers: 2\n"
     ]
    }
   ],
   "source": [
    "# Create knowledge graph system\n",
    "graph_rag = LangChainGraphRAG(\n",
    "    llm_model=\"llama3.1:8b\",\n",
    "    embedding_model=\"nomic-embed-text\"\n",
    ")\n",
    "\n",
    "print(\"🕸️ Knowledge graph system ready!\")\n",
    "print(f\"📊 Current papers: {len(graph_rag.get_all_papers())}\")"
   ]
  },
  {
   "cell_type": "markdown",
   "metadata": {},
   "source": [
    "## Step 3: Add Your First Paper"
   ]
  },
  {
   "cell_type": "code",
   "execution_count": 4,
   "metadata": {},
   "outputs": [
    {
     "name": "stderr",
     "output_type": "stream",
     "text": [
      "INFO:src.langchain_graph_rag:🔍 Processing paper: Transformer-Based Drug Discovery using Graph Neural Networks\n",
      "INFO:src.langchain_graph_rag:🚀 Using enhanced entity extraction for richer knowledge graph...\n",
      "INFO:src.enhanced_knowledge_graph:🔍 Enhanced extraction for: Transformer-Based Drug Discovery using Graph Neural Networks\n",
      "INFO:src.enhanced_knowledge_graph:📄 Split paper into 1 sections\n",
      "INFO:src.enhanced_knowledge_graph:📖 Processing section_1 section...\n"
     ]
    },
    {
     "name": "stdout",
     "output_type": "stream",
     "text": [
      "📄 Creating rich sample text for knowledge graph demonstration...\n",
      "⚡ This will be much faster than processing real papers!\n",
      "✅ Sample text created successfully!\n",
      "📰 Title: Transformer-Based Drug Discovery using Graph Neural Networks\n",
      "📊 Content length: 2,692 characters\n",
      "🔬 Rich with entities: authors, institutions, methods, datasets, technologies!\n"
     ]
    },
    {
     "name": "stderr",
     "output_type": "stream",
     "text": [
      "INFO:src.enhanced_knowledge_graph:📊 Built graph: 58 nodes, 5 edges\n",
      "INFO:src.enhanced_knowledge_graph:✅ Enhanced extraction: 74 entities, 5 relationships\n",
      "INFO:src.langchain_graph_rag:📈 Enhanced extraction: 74 entities from 1 sections\n",
      "INFO:httpx:HTTP Request: POST http://127.0.0.1:11434/api/embed \"HTTP/1.1 200 OK\"\n",
      "INFO:src.langchain_graph_rag:✅ Added paper to graph: 4 documents\n"
     ]
    },
    {
     "name": "stdout",
     "output_type": "stream",
     "text": [
      "\n",
      "✅ Sample paper added to knowledge graph!\n",
      "📝 Documents created: 4\n",
      "🏷️ Entities extracted: 74\n",
      "📊 This demonstrates the knowledge graph system with meaningful entities!\n"
     ]
    }
   ],
   "source": [
    "# Create substantial sample text with rich entities and connections\n",
    "print(\"📄 Creating rich sample text for knowledge graph demonstration...\")\n",
    "print(\"⚡ This will be much faster than processing real papers!\")\n",
    "\n",
    "# Rich sample content with overlapping entities and clear relationships\n",
    "paper_content = \"\"\"\n",
    "Transformer-Based Drug Discovery using Graph Neural Networks\n",
    "Authors: Dr. Sarah Chen (MIT), Prof. Michael Torres (Stanford), Dr. Yuki Tanaka (Tokyo Institute of Technology)\n",
    "\n",
    "Abstract:\n",
    "This paper presents ChemFormer, a novel transformer architecture for molecular property prediction in drug discovery. \n",
    "Our approach combines graph neural networks with self-attention mechanisms to analyze chemical compounds.\n",
    "\n",
    "Introduction:\n",
    "Machine learning has revolutionized drug discovery, with deep learning methods showing particular promise. \n",
    "Previous work by Chen et al. (2019) demonstrated the effectiveness of BERT-style transformers on molecular data.\n",
    "Graph neural networks (GNNs) have emerged as powerful tools for representing molecular structures.\n",
    "\n",
    "Methods:\n",
    "We developed ChemFormer using the following components:\n",
    "1. Molecular graph encoding using Graph Convolutional Networks (GCN)\n",
    "2. Transformer attention layers adapted for chemical structures  \n",
    "3. Multi-task learning framework for property prediction\n",
    "\n",
    "Our model was trained on several key datasets:\n",
    "- PubChem: 100M molecular structures\n",
    "- ChEMBL: Bioactivity data for 2M compounds\n",
    "- QM9: Quantum mechanical properties for 134K molecules\n",
    "- ZINC: Drug-like compounds for virtual screening\n",
    "\n",
    "We used PyTorch and RDKit for implementation, with training performed on NVIDIA V100 GPUs.\n",
    "The model achieves 94% accuracy on molecular solubility prediction tasks.\n",
    "\n",
    "Experiments:\n",
    "We evaluated ChemFormer on multiple benchmarks:\n",
    "- Molecular property prediction (RMSE: 0.23)\n",
    "- Drug-target interaction prediction (AUC: 0.89)\n",
    "- Toxicity classification (F1-score: 0.91)\n",
    "\n",
    "Comparison with existing methods shows significant improvements:\n",
    "- Outperforms Graph Attention Networks by 12%\n",
    "- Exceeds classical fingerprint methods by 35% \n",
    "- Matches performance of specialized chemical predictors\n",
    "\n",
    "Results:\n",
    "ChemFormer demonstrates superior performance across all evaluated tasks.\n",
    "The attention mechanism successfully identifies key molecular substructures.\n",
    "Transfer learning enables rapid adaptation to new chemical domains.\n",
    "\n",
    "Applications in pharmaceutical research include:\n",
    "- Lead compound optimization\n",
    "- ADMET property prediction  \n",
    "- Virtual compound screening\n",
    "- Drug repurposing analysis\n",
    "\n",
    "Conclusions:\n",
    "We have successfully combined transformer architectures with graph neural networks for drug discovery.\n",
    "The ChemFormer model represents a significant advance in computational chemistry.\n",
    "Future work will explore larger scale pretraining and multi-modal molecular representations.\n",
    "\n",
    "Acknowledgments:\n",
    "This work was supported by NIH grants R01-AI123456 and NSF Award CHE-7890123.\n",
    "We thank Google Cloud Platform for computational resources and the open-source community.\n",
    "\"\"\"\n",
    "\n",
    "paper_title = \"Transformer-Based Drug Discovery using Graph Neural Networks\"\n",
    "\n",
    "print(f\"✅ Sample text created successfully!\")\n",
    "print(f\"📰 Title: {paper_title}\")\n",
    "print(f\"📊 Content length: {len(paper_content):,} characters\")\n",
    "print(f\"🔬 Rich with entities: authors, institutions, methods, datasets, technologies!\")\n",
    "\n",
    "# Add paper to knowledge graph (using basic extraction for speed)\n",
    "result = graph_rag.extract_entities_and_relationships(\n",
    "    paper_content=paper_content,\n",
    "    paper_title=paper_title,\n",
    "    paper_id=\"paper_1\"\n",
    ")\n",
    "\n",
    "print(f\"\\n✅ Sample paper added to knowledge graph!\")\n",
    "print(f\"📝 Documents created: {result['documents_added']}\")\n",
    "print(f\"🏷️ Entities extracted: {sum(len(entities) for entities in result['entities'].values())}\")\n",
    "print(f\"📊 This demonstrates the knowledge graph system with meaningful entities!\")"
   ]
  },
  {
   "cell_type": "markdown",
   "metadata": {},
   "source": [
    "## Step 4: See What AI Found"
   ]
  },
  {
   "cell_type": "code",
   "execution_count": 5,
   "metadata": {},
   "outputs": [
    {
     "name": "stdout",
     "output_type": "stream",
     "text": [
      "🤖 AI Found These Entities:\n",
      "==============================\n",
      "\n",
      "📋 AUTHORS:\n",
      "   • Prof. Michael Torres\n",
      "   • Chen et al.\n",
      "   • Dr. Sarah Chen\n",
      "   • Dr. Yuki Tanaka\n",
      "   • BERT authors (not specified)\n",
      "\n",
      "📋 INSTITUTIONS:\n",
      "   • NIH\n",
      "   • Stanford University\n",
      "   • Tokyo Institute of Technology\n",
      "   • MIT\n",
      "   • NSF\n",
      "\n",
      "📋 METHODS:\n",
      "   • Graph Convolutional Networks (GCN)\n",
      "   • Transformer attention layers\n",
      "   • RDKit\n",
      "   • Classical fingerprint methods\n",
      "   • Specialized chemical predictors\n",
      "   • PyTorch\n",
      "   • Graph Attention Networks\n",
      "   • Multi-task learning framework\n",
      "\n",
      "📋 CONCEPTS:\n",
      "   • Drug discovery\n",
      "   • Graph neural networks (GNNs)\n",
      "   • Virtual screening\n",
      "   • Self-attention mechanisms\n",
      "   • Quantum mechanical properties\n",
      "   • Molecular structures\n",
      "   • Chemical compounds\n",
      "   • Molecular property prediction\n",
      "   • Bioactivity data\n",
      "\n",
      "📋 TECHNOLOGIES:\n",
      "   • QM9 dataset\n",
      "   • PubChem database\n",
      "   • Open-source community\n",
      "   • RDKit\n",
      "   • Transformer architecture\n",
      "   • ZINC database\n",
      "   • PyTorch\n",
      "   • NVIDIA V100 GPUs\n",
      "   • ChEMBL database\n",
      "   • Google Cloud Platform\n",
      "\n",
      "📋 DATASETS:\n",
      "   • PubChem\n",
      "   • Molecular property prediction datasets (not specified)\n",
      "   • QM9\n",
      "   • ChEMBL\n",
      "   • ZINC\n",
      "\n",
      "📋 METRICS:\n",
      "   • AUC\n",
      "   • RMSE\n",
      "   • Accuracy\n",
      "   • Performance Metric\n",
      "   • F1-Score\n",
      "\n",
      "📋 ALGORITHMS:\n",
      "   • Graph Convolutional Networks (GCN)\n",
      "   • Transformer attention layers\n",
      "   • Classical fingerprint methods\n",
      "   • Graph Attention Networks\n",
      "   • Multi-task learning framework\n",
      "\n",
      "📋 TOOLS:\n",
      "   • PubChem database\n",
      "   • Open-source community\n",
      "   • RDKit\n",
      "   • PyTorch\n",
      "   • ChEMBL database\n",
      "   • Google Cloud Platform\n",
      "\n",
      "📋 EXPERIMENTS:\n",
      "   • Lead compound optimization\n",
      "   • Drug-target interaction prediction\n",
      "   • Toxicity classification\n",
      "   • Molecular property prediction\n",
      "   • ADMET property prediction\n",
      "\n",
      "📋 APPLICATIONS:\n",
      "   • Lead compound optimization\n",
      "   • Pharmaceutical research\n",
      "   • Drug repurposing analysis\n",
      "   • Virtual compound screening\n",
      "   • ADMET property prediction\n",
      "\n",
      "📋 CHALLENGES:\n",
      "   • Limitation 1 (not specified)\n",
      "   • Issue 1 (not specified)\n",
      "   • Problem 1 (not specified)\n",
      "\n",
      "📋 INNOVATIONS:\n",
      "   • Transformer architecture for molecular property prediction\n",
      "   • ChemFormer model\n",
      "   • Graph neural networks for drug discovery\n"
     ]
    }
   ],
   "source": [
    "# Show extracted entities\n",
    "entities = result['entities']\n",
    "\n",
    "print(\"🤖 AI Found These Entities:\")\n",
    "print(\"=\" * 30)\n",
    "\n",
    "for category, entity_list in entities.items():\n",
    "    if entity_list:\n",
    "        print(f\"\\n📋 {category.upper()}:\")\n",
    "        for entity in entity_list:\n",
    "            print(f\"   • {entity}\")"
   ]
  },
  {
   "cell_type": "markdown",
   "metadata": {},
   "source": [
    "## Step 5: Add Another Paper"
   ]
  },
  {
   "cell_type": "code",
   "execution_count": 6,
   "metadata": {},
   "outputs": [
    {
     "name": "stderr",
     "output_type": "stream",
     "text": [
      "INFO:src.langchain_graph_rag:🔍 Processing paper: Neural Network Approaches for Chemical Property Prediction\n",
      "INFO:src.langchain_graph_rag:🚀 Using enhanced entity extraction for richer knowledge graph...\n",
      "INFO:src.enhanced_knowledge_graph:🔍 Enhanced extraction for: Neural Network Approaches for Chemical Property Prediction\n",
      "INFO:src.enhanced_knowledge_graph:📄 Split paper into 1 sections\n",
      "INFO:src.enhanced_knowledge_graph:📖 Processing section_1 section...\n"
     ]
    },
    {
     "name": "stdout",
     "output_type": "stream",
     "text": [
      "📄 Creating second related paper...\n",
      "🔗 This will have overlapping authors and methods for connections!\n",
      "✅ Second paper created!\n",
      "📰 Title: Neural Network Approaches for Chemical Property Prediction\n",
      "📊 Content length: 2,433 characters\n"
     ]
    },
    {
     "name": "stderr",
     "output_type": "stream",
     "text": [
      "INFO:src.enhanced_knowledge_graph:📊 Built graph: 64 nodes, 11 edges\n",
      "INFO:src.enhanced_knowledge_graph:✅ Enhanced extraction: 64 entities, 11 relationships\n",
      "INFO:src.langchain_graph_rag:📈 Enhanced extraction: 64 entities from 1 sections\n",
      "INFO:httpx:HTTP Request: POST http://127.0.0.1:11434/api/embed \"HTTP/1.1 200 OK\"\n",
      "INFO:src.langchain_graph_rag:✅ Added paper to graph: 3 documents\n"
     ]
    },
    {
     "name": "stdout",
     "output_type": "stream",
     "text": [
      "\n",
      "✅ Second paper added to knowledge graph!\n",
      "📚 Total papers in graph: 2\n",
      "🏷️ New entities extracted: 64\n",
      "\n",
      "📈 Knowledge Graph now contains:\n",
      "   📄 Papers: 2\n",
      "   🔗 Shared authors: Prof. Michael Torres appears in both papers!\n",
      "   🗃️ Shared datasets: PubChem, ChEMBL used by both research groups\n",
      "   🧠 Related methods: Both use neural networks for chemical analysis\n"
     ]
    }
   ],
   "source": [
    "# Create a second related paper with overlapping entities\n",
    "print(\"📄 Creating second related paper...\")\n",
    "print(\"🔗 This will have overlapping authors and methods for connections!\")\n",
    "\n",
    "# Second paper with overlapping entities to demonstrate connections\n",
    "paper_content_2 = \"\"\"\n",
    "Neural Network Approaches for Chemical Property Prediction\n",
    "Authors: Prof. Michael Torres (Stanford), Dr. Elena Rodriguez (UCSF), Dr. James Wilson (Berkeley)\n",
    "\n",
    "Abstract:\n",
    "This study explores various neural network architectures for predicting molecular properties.\n",
    "We compare traditional feedforward networks with modern graph-based approaches for chemical analysis.\n",
    "\n",
    "Introduction:\n",
    "Chemical informatics has benefited greatly from advances in machine learning.\n",
    "Building on previous transformer work in molecular modeling, we investigate simpler neural architectures.\n",
    "Our goal is to provide accessible alternatives to complex graph neural networks.\n",
    "\n",
    "Methods:\n",
    "We implemented several neural network variants:\n",
    "1. Multi-layer perceptrons with molecular fingerprints\n",
    "2. Convolutional neural networks for SMILES sequences\n",
    "3. Recurrent neural networks for sequential molecular data\n",
    "4. Comparison with Graph Convolutional Networks\n",
    "\n",
    "Our training utilized the following datasets:\n",
    "- PubChem: Molecular structure database\n",
    "- ChEMBL: Bioactivity measurements\n",
    "- Tox21: Toxicity prediction challenges\n",
    "- FreeSolv: Solvation free energy data\n",
    "\n",
    "Implementation used TensorFlow and scikit-learn, with experiments on NVIDIA RTX 3090 GPUs.\n",
    "Best models achieved 89% accuracy on drug solubility tasks.\n",
    "\n",
    "Experiments:\n",
    "We conducted comprehensive evaluations:\n",
    "- QSAR modeling (R²: 0.85)\n",
    "- Bioactivity prediction (precision: 0.87)\n",
    "- Toxicity assessment (recall: 0.83)\n",
    "\n",
    "Performance analysis reveals:\n",
    "- Simpler models often match complex architectures\n",
    "- Molecular fingerprints remain highly effective\n",
    "- Transfer learning improves generalization\n",
    "\n",
    "Results:\n",
    "Neural networks demonstrate robust performance across chemical prediction tasks.\n",
    "Feature engineering proves as important as architectural complexity.\n",
    "Ensemble methods combining different approaches show promise.\n",
    "\n",
    "Applications span multiple domains:\n",
    "- Pharmaceutical screening\n",
    "- Environmental toxicology\n",
    "- Materials discovery\n",
    "- Agrochemical development\n",
    "\n",
    "Conclusions:\n",
    "We demonstrate that well-designed simple neural networks can compete with sophisticated graph methods.\n",
    "The choice of molecular representation significantly impacts model performance.\n",
    "Future research should focus on hybrid approaches combining multiple representation types.\n",
    "\n",
    "Funding:\n",
    "Research supported by NIH grant R01-GM789012 and Stanford University internal funds.\n",
    "Special thanks to the PyTorch community and Molecular AI collaborative network.\n",
    "\"\"\"\n",
    "\n",
    "paper_title_2 = \"Neural Network Approaches for Chemical Property Prediction\"\n",
    "\n",
    "print(f\"✅ Second paper created!\")\n",
    "print(f\"📰 Title: {paper_title_2}\")\n",
    "print(f\"📊 Content length: {len(paper_content_2):,} characters\")\n",
    "\n",
    "# Add second paper to knowledge graph\n",
    "result_2 = graph_rag.extract_entities_and_relationships(\n",
    "    paper_content=paper_content_2,\n",
    "    paper_title=paper_title_2, \n",
    "    paper_id=\"paper_2\"\n",
    ")\n",
    "\n",
    "print(f\"\\n✅ Second paper added to knowledge graph!\")\n",
    "print(f\"📚 Total papers in graph: {result_2.get('total_papers', 'N/A')}\")\n",
    "print(f\"🏷️ New entities extracted: {sum(len(entities) for entities in result_2['entities'].values())}\")\n",
    "\n",
    "# Show total system stats\n",
    "total_papers = result_2.get('total_papers', 2)\n",
    "print(f\"\\n📈 Knowledge Graph now contains:\")\n",
    "print(f\"   📄 Papers: {total_papers}\")\n",
    "print(f\"   🔗 Shared authors: Prof. Michael Torres appears in both papers!\")\n",
    "print(f\"   🗃️ Shared datasets: PubChem, ChEMBL used by both research groups\")\n",
    "print(f\"   🧠 Related methods: Both use neural networks for chemical analysis\")"
   ]
  },
  {
   "cell_type": "markdown",
   "metadata": {},
   "source": [
    "## Step 6: Find Connections"
   ]
  },
  {
   "cell_type": "code",
   "execution_count": 7,
   "metadata": {},
   "outputs": [
    {
     "name": "stderr",
     "output_type": "stream",
     "text": [
      "INFO:httpx:HTTP Request: POST http://127.0.0.1:11434/api/embed \"HTTP/1.1 200 OK\"\n",
      "INFO:httpx:HTTP Request: POST http://127.0.0.1:11434/api/embed \"HTTP/1.1 200 OK\"\n",
      "INFO:httpx:HTTP Request: POST http://127.0.0.1:11434/api/embed \"HTTP/1.1 200 OK\"\n",
      "INFO:httpx:HTTP Request: POST http://127.0.0.1:11434/api/embed \"HTTP/1.1 200 OK\"\n",
      "INFO:httpx:HTTP Request: POST http://127.0.0.1:11434/api/embed \"HTTP/1.1 200 OK\"\n"
     ]
    },
    {
     "name": "stdout",
     "output_type": "stream",
     "text": [
      "🔗 Paper Connections Found:\n",
      "==============================\n",
      "\n",
      "📄 Neural Network Approaches for Chemical Property Prediction\n",
      "   🔗 Shared authors: Prof. Michael Torres\n"
     ]
    }
   ],
   "source": [
    "# Find papers connected by shared authors\n",
    "connections = graph_rag.find_related_papers(\"paper_1\", \"authors\")\n",
    "\n",
    "print(\"🔗 Paper Connections Found:\")\n",
    "print(\"=\" * 30)\n",
    "\n",
    "if connections['related_papers']:\n",
    "    for paper_id, info in connections['related_papers'].items():\n",
    "        print(f\"\\n📄 {info['paper_title']}\")\n",
    "        print(f\"   🔗 Shared authors: {', '.join(info['shared_entities'])}\")\n",
    "else:\n",
    "    print(\"No connections found\")"
   ]
  },
  {
   "cell_type": "markdown",
   "metadata": {},
   "source": [
    "## Step 7: Query the Knowledge Graph"
   ]
  },
  {
   "cell_type": "code",
   "execution_count": 8,
   "metadata": {},
   "outputs": [
    {
     "name": "stderr",
     "output_type": "stream",
     "text": [
      "/Users/aimiegarces/Agents/tutorial/../src/langchain_graph_rag.py:84: LangChainDeprecationWarning: The method `BaseRetriever.get_relevant_documents` was deprecated in langchain-core 0.1.46 and will be removed in 1.0. Use :meth:`~invoke` instead.\n",
      "  initial_docs = self.retriever.get_relevant_documents(query)\n",
      "INFO:httpx:HTTP Request: POST http://127.0.0.1:11434/api/embed \"HTTP/1.1 200 OK\"\n",
      "INFO:httpx:HTTP Request: POST http://127.0.0.1:11434/api/embed \"HTTP/1.1 200 OK\"\n",
      "INFO:httpx:HTTP Request: POST http://127.0.0.1:11434/api/embed \"HTTP/1.1 200 OK\"\n",
      "INFO:httpx:HTTP Request: POST http://127.0.0.1:11434/api/embed \"HTTP/1.1 200 OK\"\n",
      "INFO:httpx:HTTP Request: POST http://127.0.0.1:11434/api/embed \"HTTP/1.1 200 OK\"\n",
      "INFO:httpx:HTTP Request: POST http://127.0.0.1:11434/api/embed \"HTTP/1.1 200 OK\"\n",
      "INFO:httpx:HTTP Request: POST http://127.0.0.1:11434/api/embed \"HTTP/1.1 200 OK\"\n",
      "INFO:httpx:HTTP Request: POST http://127.0.0.1:11434/api/embed \"HTTP/1.1 200 OK\"\n",
      "INFO:httpx:HTTP Request: POST http://127.0.0.1:11434/api/embed \"HTTP/1.1 200 OK\"\n",
      "INFO:httpx:HTTP Request: POST http://127.0.0.1:11434/api/embed \"HTTP/1.1 200 OK\"\n",
      "INFO:httpx:HTTP Request: POST http://127.0.0.1:11434/api/embed \"HTTP/1.1 200 OK\"\n",
      "INFO:httpx:HTTP Request: POST http://127.0.0.1:11434/api/embed \"HTTP/1.1 200 OK\"\n",
      "INFO:httpx:HTTP Request: POST http://127.0.0.1:11434/api/embed \"HTTP/1.1 200 OK\"\n",
      "INFO:httpx:HTTP Request: POST http://127.0.0.1:11434/api/embed \"HTTP/1.1 200 OK\"\n",
      "INFO:httpx:HTTP Request: POST http://127.0.0.1:11434/api/embed \"HTTP/1.1 200 OK\"\n",
      "INFO:httpx:HTTP Request: POST http://127.0.0.1:11434/api/embed \"HTTP/1.1 200 OK\"\n",
      "INFO:httpx:HTTP Request: POST http://127.0.0.1:11434/api/embed \"HTTP/1.1 200 OK\"\n",
      "INFO:httpx:HTTP Request: POST http://127.0.0.1:11434/api/embed \"HTTP/1.1 200 OK\"\n",
      "INFO:httpx:HTTP Request: POST http://127.0.0.1:11434/api/embed \"HTTP/1.1 200 OK\"\n",
      "INFO:httpx:HTTP Request: POST http://127.0.0.1:11434/api/embed \"HTTP/1.1 200 OK\"\n",
      "INFO:httpx:HTTP Request: POST http://127.0.0.1:11434/api/embed \"HTTP/1.1 200 OK\"\n",
      "INFO:httpx:HTTP Request: POST http://127.0.0.1:11434/api/embed \"HTTP/1.1 200 OK\"\n",
      "INFO:httpx:HTTP Request: POST http://127.0.0.1:11434/api/embed \"HTTP/1.1 200 OK\"\n",
      "INFO:httpx:HTTP Request: POST http://127.0.0.1:11434/api/embed \"HTTP/1.1 200 OK\"\n",
      "INFO:httpx:HTTP Request: POST http://127.0.0.1:11434/api/embed \"HTTP/1.1 200 OK\"\n",
      "INFO:httpx:HTTP Request: POST http://127.0.0.1:11434/api/embed \"HTTP/1.1 200 OK\"\n",
      "INFO:httpx:HTTP Request: POST http://127.0.0.1:11434/api/embed \"HTTP/1.1 200 OK\"\n",
      "INFO:httpx:HTTP Request: POST http://127.0.0.1:11434/api/embed \"HTTP/1.1 200 OK\"\n",
      "INFO:httpx:HTTP Request: POST http://127.0.0.1:11434/api/embed \"HTTP/1.1 200 OK\"\n",
      "INFO:httpx:HTTP Request: POST http://127.0.0.1:11434/api/embed \"HTTP/1.1 200 OK\"\n",
      "INFO:httpx:HTTP Request: POST http://127.0.0.1:11434/api/embed \"HTTP/1.1 200 OK\"\n",
      "INFO:httpx:HTTP Request: POST http://127.0.0.1:11434/api/embed \"HTTP/1.1 200 OK\"\n",
      "INFO:httpx:HTTP Request: POST http://127.0.0.1:11434/api/embed \"HTTP/1.1 200 OK\"\n",
      "INFO:httpx:HTTP Request: POST http://127.0.0.1:11434/api/embed \"HTTP/1.1 200 OK\"\n",
      "INFO:httpx:HTTP Request: POST http://127.0.0.1:11434/api/embed \"HTTP/1.1 200 OK\"\n",
      "INFO:httpx:HTTP Request: POST http://127.0.0.1:11434/api/embed \"HTTP/1.1 200 OK\"\n",
      "INFO:httpx:HTTP Request: POST http://127.0.0.1:11434/api/embed \"HTTP/1.1 200 OK\"\n"
     ]
    },
    {
     "name": "stdout",
     "output_type": "stream",
     "text": [
      "🔍 Query: 'machine learning and chemistry'\n",
      "========================================\n",
      "📊 Found 2 relevant papers\n",
      "\n",
      "📄 Neural Network Approaches for Chemical Property Prediction\n",
      "   💬 Relevant sections: 3\n",
      "   📝 Neural Network Approaches for Chemical Property Prediction\n",
      "Authors: Prof. Michael Torres (Stanford),...\n",
      "\n",
      "📄 Transformer-Based Drug Discovery using Graph Neural Networks\n",
      "   💬 Relevant sections: 1\n",
      "   📝 Applications in pharmaceutical research include:\n",
      "- Lead compound optimization\n",
      "- ADMET property predi...\n"
     ]
    }
   ],
   "source": [
    "# Ask questions about your research\n",
    "query = \"machine learning and chemistry\"\n",
    "\n",
    "results = graph_rag.query_graph(query)\n",
    "\n",
    "print(f\"🔍 Query: '{query}'\")\n",
    "print(\"=\" * 40)\n",
    "print(f\"📊 Found {results['papers_found']} relevant papers\")\n",
    "\n",
    "for paper_id, paper_data in results['papers'].items():\n",
    "    print(f\"\\n📄 {paper_data['paper_title']}\")\n",
    "    print(f\"   💬 Relevant sections: {len(paper_data['chunks'])}\")\n",
    "    \n",
    "    # Show snippet\n",
    "    if paper_data['chunks']:\n",
    "        snippet = paper_data['chunks'][0][:100]\n",
    "        print(f\"   📝 {snippet}...\")"
   ]
  },
  {
   "cell_type": "markdown",
   "metadata": {},
   "source": [
    "## Step 8: Visualize Your Knowledge Graph"
   ]
  },
  {
   "cell_type": "code",
   "execution_count": 9,
   "metadata": {},
   "outputs": [
    {
     "name": "stdout",
     "output_type": "stream",
     "text": [
      "🎨 Creating knowledge graph visualization...\n"
     ]
    },
    {
     "data": {
      "application/vnd.jupyter.widget-view+json": {
       "model_id": "e203b165e4794de196ac6f4385f36337",
       "version_major": 2,
       "version_minor": 0
      },
      "text/plain": [
       "GraphWidget(layout=Layout(height='800px', width='100%'))"
      ]
     },
     "metadata": {},
     "output_type": "display_data"
    },
    {
     "name": "stdout",
     "output_type": "stream",
     "text": [
      "✅ Interactive yFiles graph displayed above!\n",
      "🎯 Use the sidebar to explore nodes and relationships\n",
      "🔍 Try the search function to find specific entities\n",
      "\n",
      "💡 If you see a graph above, you can:\n",
      "   • Drag nodes to rearrange\n",
      "   • Use sidebar to explore properties\n",
      "   • Search for specific entities\n",
      "   • Zoom and pan to navigate\n"
     ]
    }
   ],
   "source": [
    "# Visualize Your Knowledge Graph\n",
    "from src.notebook_visualization import show_knowledge_graph\n",
    "\n",
    "print(\"🎨 Creating knowledge graph visualization...\")\n",
    "\n",
    "# Display interactive graph with professional features\n",
    "result = show_knowledge_graph(graph_rag)\n",
    "\n",
    "if result:\n",
    "    print(\"\\n💡 If you see a graph above, you can:\")\n",
    "    print(\"   • Drag nodes to rearrange\")\n",
    "    print(\"   • Use sidebar to explore properties\") \n",
    "    print(\"   • Search for specific entities\")\n",
    "    print(\"   • Zoom and pan to navigate\")\n",
    "else:\n",
    "    print(\"\\n⚠️ Visualization had issues - but your knowledge graph is working!\")\n",
    "    \n",
    "    # Show what we built anyway\n",
    "    summary = graph_rag.get_graph_summary()\n",
    "    print(f\"\\n📊 Your Knowledge Graph:\")\n",
    "    print(f\"   📄 Papers: {summary['total_papers']}\")\n",
    "    print(f\"   📝 Documents: {summary['total_documents']}\")\n",
    "    print(f\"   🏷️ Entities: {sum(summary['unique_entities'].values())}\")\n",
    "    print(\"\\n🎉 Knowledge graph built successfully!\")"
   ]
  },
  {
   "cell_type": "markdown",
   "metadata": {},
   "source": [
    "## Step 9: Explore Your Graph"
   ]
  },
  {
   "cell_type": "code",
   "execution_count": 10,
   "metadata": {},
   "outputs": [
    {
     "name": "stdout",
     "output_type": "stream",
     "text": [
      "📊 Knowledge Graph Summary:\n",
      "==============================\n",
      "📄 Papers: 2\n",
      "📝 Document chunks: 18\n",
      "\n",
      "🏷️ Unique Entities:\n",
      "   • Authors: 7\n",
      "   • Institutions: 9\n",
      "   • Methods: 14\n",
      "   • Concepts: 19\n",
      "   • Technologies: 16\n",
      "   • Datasets: 12\n",
      "\n",
      "🎉 You built a knowledge graph!\n"
     ]
    }
   ],
   "source": [
    "# Get overview of your knowledge graph\n",
    "summary = graph_rag.get_graph_summary()\n",
    "\n",
    "print(\"📊 Knowledge Graph Summary:\")\n",
    "print(\"=\" * 30)\n",
    "print(f\"📄 Papers: {summary['total_papers']}\")\n",
    "print(f\"📝 Document chunks: {summary['total_documents']}\")\n",
    "\n",
    "print(\"\\n🏷️ Unique Entities:\")\n",
    "for entity_type, count in summary['unique_entities'].items():\n",
    "    if count > 0:\n",
    "        print(f\"   • {entity_type.title()}: {count}\")\n",
    "\n",
    "print(\"\\n🎉 You built a knowledge graph!\")"
   ]
  },
  {
   "cell_type": "markdown",
   "metadata": {},
   "source": [
    "## Try It Yourself!"
   ]
  },
  {
   "cell_type": "code",
   "execution_count": 11,
   "metadata": {},
   "outputs": [
    {
     "name": "stdout",
     "output_type": "stream",
     "text": [
      "💡 Add your own research content above to expand the graph!\n"
     ]
    }
   ],
   "source": [
    "# Add your own paper content here!\n",
    "your_paper = \"\"\"\n",
    "Replace this with content from your research area:\n",
    "- Title and authors\n",
    "- Abstract or summary\n",
    "- Key methods and findings\n",
    "- Datasets used\n",
    "\"\"\"\n",
    "\n",
    "# Uncomment and modify to add your paper:\n",
    "# result = graph_rag.extract_entities_and_relationships(\n",
    "#     paper_content=your_paper,\n",
    "#     paper_title=\"Your Paper Title\",\n",
    "#     paper_id=\"your_paper\"\n",
    "# )\n",
    "# print(\"✅ Your paper added to the knowledge graph!\")\n",
    "\n",
    "print(\"💡 Add your own research content above to expand the graph!\")"
   ]
  },
  {
   "cell_type": "markdown",
   "metadata": {},
   "source": [
    "## 🎓 What You Learned\n",
    "\n",
    "**Congratulations!** You built an AI-powered knowledge graph that:\n",
    "\n",
    "✅ **Extracts entities** from research papers automatically  \n",
    "✅ **Finds connections** between different papers  \n",
    "✅ **Answers questions** about your research  \n",
    "✅ **Visualizes relationships** in an interactive graph  \n",
    "\n",
    "### 🚀 Next Steps:\n",
    "- Add real papers from your research area\n",
    "- Try different query types\n",
    "- Explore the interactive visualization\n",
    "- Scale up to larger paper collections\n",
    "\n",
    "### 🔗 Real-world Applications:\n",
    "- **Literature reviews** - Find research gaps\n",
    "- **Collaboration mapping** - Discover research networks  \n",
    "- **Citation analysis** - Track research influence\n",
    "- **Knowledge discovery** - Uncover hidden connections"
   ]
  }
 ],
 "metadata": {
  "kernelspec": {
   "display_name": "Python (langchain-env)",
   "language": "python",
   "name": "langchain-env"
  },
  "language_info": {
   "codemirror_mode": {
    "name": "ipython",
    "version": 3
   },
   "file_extension": ".py",
   "mimetype": "text/x-python",
   "name": "python",
   "nbconvert_exporter": "python",
   "pygments_lexer": "ipython3",
   "version": "3.9.6"
  }
 },
 "nbformat": 4,
 "nbformat_minor": 4
}
