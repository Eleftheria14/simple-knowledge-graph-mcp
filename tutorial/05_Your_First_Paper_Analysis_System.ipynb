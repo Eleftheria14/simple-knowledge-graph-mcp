{
 "cells": [
  {
   "cell_type": "markdown",
   "metadata": {},
   "source": [
    "# 🏆 Tutorial 5: Your First Paper Analysis System\n",
    "\n",
    "**Build a complete intelligent research assistant that combines everything you've learned!**\n",
    "\n",
    "## What You'll Build:\n",
    "- Complete paper analysis system\n",
    "- Smart routing (RAG vs Knowledge Graph)\n",
    "- Interactive chat interface\n",
    "- Citation generation\n",
    "- Your own intelligent research assistant!\n",
    "\n",
    "**Time:** 35-40 minutes | **Level:** Intermediate Beginner"
   ]
  },
  {
   "cell_type": "markdown",
   "metadata": {},
   "source": [
    "## Step 1: Setup Complete System"
   ]
  },
  {
   "cell_type": "code",
   "execution_count": null,
   "metadata": {},
   "outputs": [],
   "source": [
    "# Import everything we need\n",
    "import os\n",
    "import sys\n",
    "\n",
    "# Add parent directory to path\n",
    "if os.path.basename(os.getcwd()) == 'tutorial':\n",
    "    sys.path.insert(0, '..')\n",
    "else:\n",
    "    sys.path.insert(0, '.')\n",
    "\n",
    "# Import our complete paper analysis system and tutorial helpers\n",
    "from src import (\n",
    "    analyze_paper_with_chat,\n",
    "    analyze_system_performance,\n",
    "    display_tutorial_results,\n",
    "    generate_comprehensive_summary,\n",
    "    show_suggested_next_steps,\n",
    "    test_question_routing,\n",
    ")\n",
    "\n",
    "print(\"✅ Complete paper analysis system ready!\")\n",
    "print(\"🎯 This combines RAG + Knowledge Graphs + Smart Routing\")\n",
    "print(\"🛠️ Clean tutorial helpers loaded!\")"
   ]
  },
  {
   "cell_type": "markdown",
   "metadata": {},
   "source": [
    "## Step 2: Load a Real Research Paper"
   ]
  },
  {
   "cell_type": "code",
   "execution_count": null,
   "metadata": {},
   "outputs": [],
   "source": [
    "# Load a sample research paper\n",
    "paper_path = \"../examples/d4sc03921a.pdf\"  # Adjust path if needed\n",
    "\n",
    "print(\"📄 Loading research paper...\")\n",
    "print(\"⏳ This creates both RAG and Knowledge Graph systems...\")\n",
    "\n",
    "# Create the complete analysis system\n",
    "chat_system = analyze_paper_with_chat(paper_path)\n",
    "\n",
    "print(\"\\n✅ Paper analysis system ready!\")\n",
    "print(\"🧠 Your AI now knows about this research paper through:\")\n",
    "print(\"   📚 RAG: For detailed content search\")\n",
    "print(\"   🕸️ Knowledge Graph: For entity relationships\")\n",
    "print(\"   🤖 Smart Router: Picks the best method for each question\")"
   ]
  },
  {
   "cell_type": "markdown",
   "metadata": {},
   "source": [
    "## Step 3: Test Different Types of Questions"
   ]
  },
  {
   "cell_type": "code",
   "execution_count": null,
   "metadata": {},
   "outputs": [],
   "source": [
    "# Test 1: Content-based question (should use RAG)\n",
    "response1 = test_question_routing(\n",
    "    chat_system,\n",
    "    \"What are the main findings of this research?\",\n",
    "    \"RAG (detailed content search)\"\n",
    ")"
   ]
  },
  {
   "cell_type": "code",
   "execution_count": null,
   "metadata": {},
   "outputs": [],
   "source": [
    "# Test 2: Relationship-based question (should use Knowledge Graph)\n",
    "response2 = test_question_routing(\n",
    "    chat_system,\n",
    "    \"Who are the authors and what institutions are they from?\",\n",
    "    \"Knowledge Graph (entity relationships)\"\n",
    ")"
   ]
  },
  {
   "cell_type": "code",
   "execution_count": null,
   "metadata": {},
   "outputs": [],
   "source": [
    "# Test 2: Relationship-based question (should use Knowledge Graph)\n",
    "response2 = test_question_routing(\n",
    "    chat_system,\n",
    "    \"Who are the authors and what institutions are they from?\",\n",
    "    \"Knowledge Graph (entity relationships)\"\n",
    ")"
   ]
  },
  {
   "cell_type": "markdown",
   "metadata": {},
   "source": [
    "## Step 4: Interactive Chat Session"
   ]
  },
  {
   "cell_type": "code",
   "execution_count": null,
   "metadata": {},
   "outputs": [],
   "source": [
    "# Test 3: Mixed question (smart routing decides)\n",
    "response3 = test_question_routing(\n",
    "    chat_system,\n",
    "    \"What models did the researchers use and how do they connect to previous work?\",\n",
    "    \"Smart decision based on question complexity\"\n",
    ")"
   ]
  },
  {
   "cell_type": "markdown",
   "metadata": {},
   "source": [
    "## Step 5: Generate Citations and Summary"
   ]
  },
  {
   "cell_type": "code",
   "execution_count": null,
   "metadata": {},
   "outputs": [],
   "source": [
    "# Start interactive chat with the paper\n",
    "print(\"🚀 Ready to start interactive chat!\")\n",
    "print(\"💡 Uncomment the line below to start chatting:\")\n",
    "print(\"# interactive_paper_chat(chat_system)\")\n",
    "\n",
    "# Uncomment to start:\n",
    "# interactive_paper_chat(chat_system)"
   ]
  },
  {
   "cell_type": "markdown",
   "metadata": {},
   "source": [
    "## Step 6: Export for Citation"
   ]
  },
  {
   "cell_type": "code",
   "execution_count": null,
   "metadata": {},
   "outputs": [],
   "source": [
    "# Generate comprehensive research summary\n",
    "summary_response = generate_comprehensive_summary(chat_system)"
   ]
  },
  {
   "cell_type": "markdown",
   "metadata": {},
   "source": [
    "## Step 7: System Performance Analysis"
   ]
  },
  {
   "cell_type": "code",
   "execution_count": null,
   "metadata": {},
   "outputs": [],
   "source": [
    "# Analyze system performance across different question types\n",
    "performance_results = analyze_system_performance(chat_system)"
   ]
  },
  {
   "cell_type": "markdown",
   "metadata": {},
   "source": [
    "## 🎓 What You Built!\n",
    "\n",
    "**Congratulations!** You've built a complete intelligent paper analysis system that:\n",
    "\n",
    "✅ **Combines RAG + Knowledge Graphs** for comprehensive understanding  \n",
    "✅ **Smart routing** automatically picks the best method for each question  \n",
    "✅ **Interactive chat** lets you explore papers conversationally  \n",
    "✅ **Citation extraction** provides proper academic metadata  \n",
    "✅ **Performance analysis** shows how the system makes decisions  \n",
    "\n",
    "### 🧠 How It Works:\n",
    "\n",
    "1. **Document Processing**: Converts PDFs into searchable chunks\n",
    "2. **Dual Knowledge Representation**: \n",
    "   - **RAG**: For detailed content search and retrieval\n",
    "   - **Knowledge Graph**: For entity relationships and connections\n",
    "3. **Smart Routing**: AI decides which method works best for each question\n",
    "4. **Unified Interface**: One chat system that leverages both approaches\n",
    "\n",
    "### 🚀 What's Next?\n",
    "\n",
    "**You're now ready for advanced features:**\n",
    "- Try the `Enhanced_Literature_Review_System.ipynb` \n",
    "- Work with multiple papers simultaneously\n",
    "- Build literature reviews with cross-paper analysis\n",
    "- Create specialized systems for your research domain\n",
    "\n",
    "### 💡 Real-World Applications:\n",
    "\n",
    "- **Research Literature Review**: Analyze multiple papers for patterns\n",
    "- **Academic Writing**: Find relevant citations and connections\n",
    "- **Knowledge Discovery**: Uncover hidden relationships in research\n",
    "- **Expert Systems**: Build domain-specific AI assistants\n",
    "\n",
    "**🎉 You've mastered building intelligent AI systems! Keep experimenting and building amazing things!**"
   ]
  },
  {
   "cell_type": "code",
   "execution_count": null,
   "metadata": {},
   "outputs": [],
   "source": [
    "# Display tutorial completion summary and next steps\n",
    "display_tutorial_results(chat_system)\n",
    "show_suggested_next_steps()"
   ]
  },
  {
   "cell_type": "markdown",
   "metadata": {},
   "source": [
    "## 🎓 Tutorial Complete!"
   ]
  }
 ],
 "metadata": {
  "kernelspec": {
   "display_name": "Python (langchain-env)",
   "name": "langchain-env"
  },
  "language_info": {
   "codemirror_mode": {
    "name": "ipython",
    "version": 3
   },
   "file_extension": ".py",
   "name": "python",
   "nbconvert_exporter": "python",
   "pygments_lexer": "ipython3",
   "version": "3.9.6"
  }
 },
 "nbformat": 4,
 "nbformat_minor": 4
}
